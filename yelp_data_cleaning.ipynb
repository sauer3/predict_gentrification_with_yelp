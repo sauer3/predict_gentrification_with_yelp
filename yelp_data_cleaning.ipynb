{
 "cells": [
  {
   "cell_type": "markdown",
   "metadata": {},
   "source": [
    "# Yelp Data Cleaning\n",
    "This script imports, cleans, and filters variables for input into a regression model to predict median home price for a neighborhood. \n",
    "data source: https://www.yelp.com/dataset/download"
   ]
  },
  {
   "cell_type": "code",
   "execution_count": 1,
   "metadata": {},
   "outputs": [],
   "source": [
    "import os\n",
    "import numpy as np\n",
    "import pandas as pd"
   ]
  },
  {
   "cell_type": "code",
   "execution_count": 2,
   "metadata": {},
   "outputs": [],
   "source": [
    "# Set working directory\n",
    "project_dir = os.getcwd()\n",
    "yelp_dir = os.path.join(project_dir, 'data', 'yelp_dataset')"
   ]
  },
  {
   "cell_type": "markdown",
   "metadata": {},
   "source": [
    "## Business dataset"
   ]
  },
  {
   "cell_type": "code",
   "execution_count": 3,
   "metadata": {
    "scrolled": true
   },
   "outputs": [
    {
     "data": {
      "text/html": [
       "<div>\n",
       "<style scoped>\n",
       "    .dataframe tbody tr th:only-of-type {\n",
       "        vertical-align: middle;\n",
       "    }\n",
       "\n",
       "    .dataframe tbody tr th {\n",
       "        vertical-align: top;\n",
       "    }\n",
       "\n",
       "    .dataframe thead th {\n",
       "        text-align: right;\n",
       "    }\n",
       "</style>\n",
       "<table border=\"1\" class=\"dataframe\">\n",
       "  <thead>\n",
       "    <tr style=\"text-align: right;\">\n",
       "      <th></th>\n",
       "      <th>business_id</th>\n",
       "      <th>name</th>\n",
       "      <th>address</th>\n",
       "      <th>city</th>\n",
       "      <th>state</th>\n",
       "      <th>postal_code</th>\n",
       "      <th>latitude</th>\n",
       "      <th>longitude</th>\n",
       "      <th>stars</th>\n",
       "      <th>review_count</th>\n",
       "      <th>is_open</th>\n",
       "      <th>attributes</th>\n",
       "      <th>categories</th>\n",
       "      <th>hours</th>\n",
       "    </tr>\n",
       "  </thead>\n",
       "  <tbody>\n",
       "    <tr>\n",
       "      <th>0</th>\n",
       "      <td>1SWheh84yJXfytovILXOAQ</td>\n",
       "      <td>Arizona Biltmore Golf Club</td>\n",
       "      <td>2818 E Camino Acequia Drive</td>\n",
       "      <td>Phoenix</td>\n",
       "      <td>AZ</td>\n",
       "      <td>85016</td>\n",
       "      <td>33.522143</td>\n",
       "      <td>-112.018481</td>\n",
       "      <td>3.0</td>\n",
       "      <td>5</td>\n",
       "      <td>0</td>\n",
       "      <td>{'GoodForKids': 'False'}</td>\n",
       "      <td>Golf, Active Life</td>\n",
       "      <td>None</td>\n",
       "    </tr>\n",
       "    <tr>\n",
       "      <th>1</th>\n",
       "      <td>QXAEGFB4oINsVuTFxEYKFQ</td>\n",
       "      <td>Emerald Chinese Restaurant</td>\n",
       "      <td>30 Eglinton Avenue W</td>\n",
       "      <td>Mississauga</td>\n",
       "      <td>ON</td>\n",
       "      <td>L5R 3E7</td>\n",
       "      <td>43.605499</td>\n",
       "      <td>-79.652289</td>\n",
       "      <td>2.5</td>\n",
       "      <td>128</td>\n",
       "      <td>1</td>\n",
       "      <td>{'RestaurantsReservations': 'True', 'GoodForMe...</td>\n",
       "      <td>Specialty Food, Restaurants, Dim Sum, Imported...</td>\n",
       "      <td>{'Monday': '9:0-0:0', 'Tuesday': '9:0-0:0', 'W...</td>\n",
       "    </tr>\n",
       "    <tr>\n",
       "      <th>2</th>\n",
       "      <td>gnKjwL_1w79qoiV3IC_xQQ</td>\n",
       "      <td>Musashi Japanese Restaurant</td>\n",
       "      <td>10110 Johnston Rd, Ste 15</td>\n",
       "      <td>Charlotte</td>\n",
       "      <td>NC</td>\n",
       "      <td>28210</td>\n",
       "      <td>35.092564</td>\n",
       "      <td>-80.859132</td>\n",
       "      <td>4.0</td>\n",
       "      <td>170</td>\n",
       "      <td>1</td>\n",
       "      <td>{'GoodForKids': 'True', 'NoiseLevel': 'u'avera...</td>\n",
       "      <td>Sushi Bars, Restaurants, Japanese</td>\n",
       "      <td>{'Monday': '17:30-21:30', 'Wednesday': '17:30-...</td>\n",
       "    </tr>\n",
       "    <tr>\n",
       "      <th>3</th>\n",
       "      <td>xvX2CttrVhyG2z1dFg_0xw</td>\n",
       "      <td>Farmers Insurance - Paul Lorenz</td>\n",
       "      <td>15655 W Roosevelt St, Ste 237</td>\n",
       "      <td>Goodyear</td>\n",
       "      <td>AZ</td>\n",
       "      <td>85338</td>\n",
       "      <td>33.455613</td>\n",
       "      <td>-112.395596</td>\n",
       "      <td>5.0</td>\n",
       "      <td>3</td>\n",
       "      <td>1</td>\n",
       "      <td>None</td>\n",
       "      <td>Insurance, Financial Services</td>\n",
       "      <td>{'Monday': '8:0-17:0', 'Tuesday': '8:0-17:0', ...</td>\n",
       "    </tr>\n",
       "    <tr>\n",
       "      <th>4</th>\n",
       "      <td>HhyxOkGAM07SRYtlQ4wMFQ</td>\n",
       "      <td>Queen City Plumbing</td>\n",
       "      <td>4209 Stuart Andrew Blvd, Ste F</td>\n",
       "      <td>Charlotte</td>\n",
       "      <td>NC</td>\n",
       "      <td>28217</td>\n",
       "      <td>35.190012</td>\n",
       "      <td>-80.887223</td>\n",
       "      <td>4.0</td>\n",
       "      <td>4</td>\n",
       "      <td>1</td>\n",
       "      <td>{'BusinessAcceptsBitcoin': 'False', 'ByAppoint...</td>\n",
       "      <td>Plumbing, Shopping, Local Services, Home Servi...</td>\n",
       "      <td>{'Monday': '7:0-23:0', 'Tuesday': '7:0-23:0', ...</td>\n",
       "    </tr>\n",
       "  </tbody>\n",
       "</table>\n",
       "</div>"
      ],
      "text/plain": [
       "              business_id                             name  \\\n",
       "0  1SWheh84yJXfytovILXOAQ       Arizona Biltmore Golf Club   \n",
       "1  QXAEGFB4oINsVuTFxEYKFQ       Emerald Chinese Restaurant   \n",
       "2  gnKjwL_1w79qoiV3IC_xQQ      Musashi Japanese Restaurant   \n",
       "3  xvX2CttrVhyG2z1dFg_0xw  Farmers Insurance - Paul Lorenz   \n",
       "4  HhyxOkGAM07SRYtlQ4wMFQ              Queen City Plumbing   \n",
       "\n",
       "                          address         city state postal_code   latitude  \\\n",
       "0     2818 E Camino Acequia Drive      Phoenix    AZ       85016  33.522143   \n",
       "1            30 Eglinton Avenue W  Mississauga    ON     L5R 3E7  43.605499   \n",
       "2       10110 Johnston Rd, Ste 15    Charlotte    NC       28210  35.092564   \n",
       "3   15655 W Roosevelt St, Ste 237     Goodyear    AZ       85338  33.455613   \n",
       "4  4209 Stuart Andrew Blvd, Ste F    Charlotte    NC       28217  35.190012   \n",
       "\n",
       "    longitude  stars  review_count  is_open  \\\n",
       "0 -112.018481    3.0             5        0   \n",
       "1  -79.652289    2.5           128        1   \n",
       "2  -80.859132    4.0           170        1   \n",
       "3 -112.395596    5.0             3        1   \n",
       "4  -80.887223    4.0             4        1   \n",
       "\n",
       "                                          attributes  \\\n",
       "0                           {'GoodForKids': 'False'}   \n",
       "1  {'RestaurantsReservations': 'True', 'GoodForMe...   \n",
       "2  {'GoodForKids': 'True', 'NoiseLevel': 'u'avera...   \n",
       "3                                               None   \n",
       "4  {'BusinessAcceptsBitcoin': 'False', 'ByAppoint...   \n",
       "\n",
       "                                          categories  \\\n",
       "0                                  Golf, Active Life   \n",
       "1  Specialty Food, Restaurants, Dim Sum, Imported...   \n",
       "2                  Sushi Bars, Restaurants, Japanese   \n",
       "3                      Insurance, Financial Services   \n",
       "4  Plumbing, Shopping, Local Services, Home Servi...   \n",
       "\n",
       "                                               hours  \n",
       "0                                               None  \n",
       "1  {'Monday': '9:0-0:0', 'Tuesday': '9:0-0:0', 'W...  \n",
       "2  {'Monday': '17:30-21:30', 'Wednesday': '17:30-...  \n",
       "3  {'Monday': '8:0-17:0', 'Tuesday': '8:0-17:0', ...  \n",
       "4  {'Monday': '7:0-23:0', 'Tuesday': '7:0-23:0', ...  "
      ]
     },
     "execution_count": 3,
     "metadata": {},
     "output_type": "execute_result"
    }
   ],
   "source": [
    "# Load business dataset\n",
    "business_df = pd.read_json(os.path.join(yelp_dir, 'business.json'), lines=True)\n",
    "business_df.head()"
   ]
  },
  {
   "cell_type": "code",
   "execution_count": 4,
   "metadata": {},
   "outputs": [
    {
     "data": {
      "text/plain": [
       "array(['AZ', 'ON', 'NC', 'AB', 'NV', 'OH', 'PA', 'QC', 'WI', 'IL', 'NY',\n",
       "       'SC', 'TX', 'UT', 'NM', 'FL', 'CA', 'VA', 'BAS', 'NE', 'AK', 'XGM',\n",
       "       'WA', 'XWY', 'CON', 'BC', 'GA', 'VT', 'CT', 'AL', 'DUR', 'TN',\n",
       "       'NJ', 'AR', 'XGL', 'DOW'], dtype=object)"
      ]
     },
     "execution_count": 4,
     "metadata": {},
     "output_type": "execute_result"
    }
   ],
   "source": [
    "business_df.state.unique()"
   ]
  },
  {
   "cell_type": "code",
   "execution_count": 5,
   "metadata": {},
   "outputs": [],
   "source": [
    "# Load table for most populated cities in these states\n",
    "pop = pd.read_csv('/Users/AuerPower/Metis/git/predict_gentrification_with_yelp/data/most_populous_cities.csv')\n",
    "pop = pop.sort_values(by='estimate2018', ascending=False)\n",
    "pop = pop[pop['rank']<=50]"
   ]
  },
  {
   "cell_type": "code",
   "execution_count": 6,
   "metadata": {},
   "outputs": [],
   "source": [
    "# Select top 50 most populous cities for dataset\n",
    "#business_df  = business_df[business_df['city'].isin(pop['City'])]"
   ]
  },
  {
   "cell_type": "code",
   "execution_count": 7,
   "metadata": {},
   "outputs": [
    {
     "data": {
      "text/plain": [
       "array(['Phoenix', 'Mississauga', 'Charlotte', ..., 'Henderson Nevada',\n",
       "       'Boston', 'Spring Hill City View'], dtype=object)"
      ]
     },
     "execution_count": 7,
     "metadata": {},
     "output_type": "execute_result"
    }
   ],
   "source": [
    "business_df.city.unique()"
   ]
  },
  {
   "cell_type": "code",
   "execution_count": 8,
   "metadata": {},
   "outputs": [
    {
     "data": {
      "text/plain": [
       "(192609, 14)"
      ]
     },
     "execution_count": 8,
     "metadata": {},
     "output_type": "execute_result"
    }
   ],
   "source": [
    "business_df.shape"
   ]
  },
  {
   "cell_type": "markdown",
   "metadata": {},
   "source": [
    "### Average number of yelp reviews per business"
   ]
  },
  {
   "cell_type": "code",
   "execution_count": 9,
   "metadata": {},
   "outputs": [
    {
     "data": {
      "text/plain": [
       "postal_code\n",
       "             9.100152\n",
       "02645        4.000000\n",
       "05440        4.000000\n",
       "06032        9.000000\n",
       "06280        3.000000\n",
       "              ...    \n",
       "V0J         10.000000\n",
       "V5H 1J9    373.000000\n",
       "W8M 3T5     20.000000\n",
       "m2k 0c5      3.000000\n",
       "t2g 3m5      3.000000\n",
       "Name: review_count, Length: 17541, dtype: float64"
      ]
     },
     "execution_count": 9,
     "metadata": {},
     "output_type": "execute_result"
    }
   ],
   "source": [
    "# groupby postal_code and find mean of review_count\n",
    "reviews_per_business = business_df.groupby(['postal_code']).mean().iloc[:,-2]\n",
    "reviews_per_business"
   ]
  },
  {
   "cell_type": "markdown",
   "metadata": {},
   "source": [
    "### Average number of stars per business"
   ]
  },
  {
   "cell_type": "code",
   "execution_count": 10,
   "metadata": {},
   "outputs": [
    {
     "data": {
      "text/plain": [
       "postal_code\n",
       "           3.358877\n",
       "02645      5.000000\n",
       "05440      4.250000\n",
       "06032      4.000000\n",
       "06280      5.000000\n",
       "             ...   \n",
       "V0J        4.500000\n",
       "V5H 1J9    3.500000\n",
       "W8M 3T5    4.000000\n",
       "m2k 0c5    4.500000\n",
       "t2g 3m5    5.000000\n",
       "Name: stars, Length: 17541, dtype: float64"
      ]
     },
     "execution_count": 10,
     "metadata": {},
     "output_type": "execute_result"
    }
   ],
   "source": [
    "# groupby postal_code and find mean of stars\n",
    "avg_stars = business_df.groupby(['postal_code']).mean().iloc[:,-3]\n",
    "avg_stars"
   ]
  },
  {
   "cell_type": "markdown",
   "metadata": {},
   "source": [
    "### Number of unique catgories of business"
   ]
  },
  {
   "cell_type": "code",
   "execution_count": 11,
   "metadata": {},
   "outputs": [
    {
     "data": {
      "text/plain": [
       "323"
      ]
     },
     "execution_count": 11,
     "metadata": {},
     "output_type": "execute_result"
    }
   ],
   "source": [
    "categories = business_df.groupby('postal_code')['categories'].nunique()\n",
    "\n",
    "# did this work? what is the number of unique catgories for zip '28210'\n",
    "categories.loc['28210']"
   ]
  },
  {
   "cell_type": "markdown",
   "metadata": {},
   "source": [
    "### Sushi"
   ]
  },
  {
   "cell_type": "code",
   "execution_count": 12,
   "metadata": {},
   "outputs": [
    {
     "data": {
      "text/plain": [
       "5.0"
      ]
     },
     "execution_count": 12,
     "metadata": {},
     "output_type": "execute_result"
    }
   ],
   "source": [
    "business_df['sushi'] = business_df['categories'].str.contains('Sushi Bars', regex=True)\n",
    "business_df['sushi'] = business_df['sushi'].replace({False: 0, True: 1})\n",
    "sushi = business_df.groupby('postal_code').sum().iloc[:,-1]\n",
    "sushi.loc['28210']"
   ]
  },
  {
   "cell_type": "code",
   "execution_count": 13,
   "metadata": {},
   "outputs": [
    {
     "data": {
      "text/plain": [
       "postal_code\n",
       "89102    20.0\n",
       "Name: sushi, dtype: float64"
      ]
     },
     "execution_count": 13,
     "metadata": {},
     "output_type": "execute_result"
    }
   ],
   "source": [
    "sushi[sushi == 20]"
   ]
  },
  {
   "cell_type": "code",
   "execution_count": 14,
   "metadata": {},
   "outputs": [
    {
     "name": "stderr",
     "output_type": "stream",
     "text": [
      "/Users/AuerPower/opt/miniconda3/envs/metis/lib/python3.7/site-packages/pandas/core/strings.py:1843: UserWarning: This pattern has match groups. To actually get the groups, use str.extract.\n",
      "  return func(self, *args, **kwargs)\n"
     ]
    },
    {
     "data": {
      "text/plain": [
       "5.0"
      ]
     },
     "execution_count": 14,
     "metadata": {},
     "output_type": "execute_result"
    }
   ],
   "source": [
    "### New American Restaurants\n",
    "business_df['New_american'] = business_df['categories'].str.contains('American (New)', regex=True)\n",
    "business_df['New_american'] = business_df['New_american'].replace({False: 0, True: 1})\n",
    "New_american = business_df.groupby('postal_code').sum().iloc[:,-1]\n",
    "New_american.loc['28210']"
   ]
  },
  {
   "cell_type": "markdown",
   "metadata": {},
   "source": [
    "### Number of wine bars/cocktail bars/breweries"
   ]
  },
  {
   "cell_type": "code",
   "execution_count": 15,
   "metadata": {},
   "outputs": [
    {
     "data": {
      "text/plain": [
       "9.0"
      ]
     },
     "execution_count": 15,
     "metadata": {},
     "output_type": "execute_result"
    }
   ],
   "source": [
    "business_df['bars'] = business_df['categories'].str.contains('Wine Bars|Cocktail Bars|Breweries|Brewpubs', regex=True)\n",
    "business_df['bars'] = business_df['bars'].replace({False: 0, True: 1})\n",
    "bars = business_df.groupby('postal_code').sum().bars #iloc[:,-1]\n",
    "bars.loc['28210']"
   ]
  },
  {
   "cell_type": "markdown",
   "metadata": {},
   "source": [
    "### Number of coffee shops"
   ]
  },
  {
   "cell_type": "code",
   "execution_count": 16,
   "metadata": {},
   "outputs": [
    {
     "data": {
      "text/plain": [
       "18.0"
      ]
     },
     "execution_count": 16,
     "metadata": {},
     "output_type": "execute_result"
    }
   ],
   "source": [
    "business_df['coffee'] = business_df['categories'].str.contains('Coffee & Tea|Coffee Roasteries|Bakeries|Ice Cream', regex=True)\n",
    "business_df['coffee'] = business_df['coffee'].replace({False: 0, True: 1})\n",
    "coffee = business_df.groupby('postal_code').sum().coffee #.iloc[:,-1]\n",
    "coffee.loc['28210']"
   ]
  },
  {
   "cell_type": "markdown",
   "metadata": {},
   "source": [
    "### Yoga studios"
   ]
  },
  {
   "cell_type": "code",
   "execution_count": 17,
   "metadata": {},
   "outputs": [
    {
     "data": {
      "text/plain": [
       "15.0"
      ]
     },
     "execution_count": 17,
     "metadata": {},
     "output_type": "execute_result"
    }
   ],
   "source": [
    "business_df['yoga'] = business_df['categories'].str.contains('Fitness & Instruction|Active Life|Yoga', regex=True)\n",
    "business_df['yoga'] = business_df['yoga'].replace({False: 0, True: 1})\n",
    "yoga = business_df.groupby('postal_code').sum().yoga #.iloc[:,-1]\n",
    "yoga.loc['28210']"
   ]
  },
  {
   "cell_type": "markdown",
   "metadata": {},
   "source": [
    "## Reviews dataset - Food Trends\n",
    "- Avocado toast\n",
    "- third wave coffee"
   ]
  },
  {
   "cell_type": "code",
   "execution_count": 18,
   "metadata": {},
   "outputs": [],
   "source": [
    "#from collections import defaultdict\n",
    "# default value of int is 0 with defaultdict\n",
    "#date_dict = defaultdict(int)\n",
    "\n",
    "#for gm_chunk in pd.read_json(os.path.join(yelp_dir, 'review.json'), lines=True, chunksize=2):\n",
    "#    for c in gm_chunk['date']:\n",
    "#        date_dict += 1\n",
    "\n",
    "# print the continent_dict \n",
    "#print(date_dict)\n",
    "\n",
    "#defaultdict(int,\n",
    "#            {'Africa': 624,\n",
    "#             'Americas': 300,\n",
    "#             'Asia': 396,\n",
    "#             'Europe': 360,\n",
    "#             'Oceania': 24})"
   ]
  },
  {
   "cell_type": "code",
   "execution_count": 19,
   "metadata": {},
   "outputs": [],
   "source": [
    "#reviews = []\n",
    "#reader = pd.read_json(os.path.join(yelp_dir, 'review.json'), lines=True, chunksize=1)\n",
    "#for chunk in reader:\n",
    "#    reviews.append(chunk)"
   ]
  },
  {
   "cell_type": "code",
   "execution_count": 20,
   "metadata": {},
   "outputs": [],
   "source": [
    "# Load yelp reviews (5GB dataset)\n",
    "#reader = pd.read_json(os.path.join(yelp_dir, 'review.json'), lines=True, chunksize=1)\n",
    "\n",
    "#import json\n",
    "#with open(os.path.join(yelp_dir, 'review.json')) as f:\n",
    "#    for line in f:\n",
    "#        data.append(json.loads(line))\n",
    "\n",
    "#reviews = pd.DataFrame(chunk)\n",
    "\n",
    "#reviews.append(pd.DataFrame(chunk)) \n",
    "#reviews = pd.DataFrame(chunk)\n",
    "#reviews.head()"
   ]
  },
  {
   "cell_type": "markdown",
   "metadata": {},
   "source": [
    "### Avocado Toast"
   ]
  },
  {
   "cell_type": "code",
   "execution_count": 21,
   "metadata": {},
   "outputs": [],
   "source": [
    "# test \n",
    "#def avocado_toast():\n",
    "#reviews['avocado'] = reviews['text'].str.contains('Avocado toast', case=False, regex=True)\n",
    "#reviews['avocado'] = reviews['avocado'].replace({False: 0, True: 1})\n",
    "#avocado = reviews.groupby('postal_code').sum().iloc[:,-1]\n",
    "#avocado.loc['28210']"
   ]
  },
  {
   "cell_type": "code",
   "execution_count": 22,
   "metadata": {},
   "outputs": [],
   "source": [
    "# Function for Avocado toast\n",
    "#def avocado_toast():\n",
    "    \n",
    "#for i in chunks:\n",
    "#    reader = pd.read_json(os.path.join(yelp_dir, 'review.json'), lines=True, chunksize=i)\n",
    "    # Filter the data by business ID and date\n",
    "    # Run calculations on it?\n",
    "#for chunk in reader:\n",
    "#    reviews.append(pd.DataFrame(chunk)) \n",
    "#    print(chunk)"
   ]
  },
  {
   "cell_type": "markdown",
   "metadata": {},
   "source": [
    "### Identify third wave coffee shops\n",
    "Third wave coffee shops are defined as having direct trade sourcing, innovative brewing methods, and a smooth type of foam that creates decorative patterns when poured (i.e. latte art). To identify third wave coffee shops I'm going to choose businesses that have photo captions with terms associated with these characteristics:\n",
    "* latte art\n",
    "* avocado toast\n",
    "* single origin\n",
    "* brewing methods: chemex, V60, AeroPress, vac pot syphon"
   ]
  },
  {
   "cell_type": "code",
   "execution_count": 23,
   "metadata": {},
   "outputs": [
    {
     "data": {
      "text/html": [
       "<div>\n",
       "<style scoped>\n",
       "    .dataframe tbody tr th:only-of-type {\n",
       "        vertical-align: middle;\n",
       "    }\n",
       "\n",
       "    .dataframe tbody tr th {\n",
       "        vertical-align: top;\n",
       "    }\n",
       "\n",
       "    .dataframe thead th {\n",
       "        text-align: right;\n",
       "    }\n",
       "</style>\n",
       "<table border=\"1\" class=\"dataframe\">\n",
       "  <thead>\n",
       "    <tr style=\"text-align: right;\">\n",
       "      <th></th>\n",
       "      <th>caption</th>\n",
       "      <th>photo_id</th>\n",
       "      <th>business_id</th>\n",
       "      <th>label</th>\n",
       "    </tr>\n",
       "  </thead>\n",
       "  <tbody>\n",
       "    <tr>\n",
       "      <th>0</th>\n",
       "      <td></td>\n",
       "      <td>MllA1nNpcp1kDteVg6OGUw</td>\n",
       "      <td>rcaPajgKOJC2vo_l3xa42A</td>\n",
       "      <td>inside</td>\n",
       "    </tr>\n",
       "    <tr>\n",
       "      <th>1</th>\n",
       "      <td></td>\n",
       "      <td>YjxBE88Bf6CmTEF2LP1UNA</td>\n",
       "      <td>Kn23LDd740SBVJ7mum0fwg</td>\n",
       "      <td>inside</td>\n",
       "    </tr>\n",
       "    <tr>\n",
       "      <th>2</th>\n",
       "      <td></td>\n",
       "      <td>1f7izSjM0WjkDRIVbPy1yw</td>\n",
       "      <td>ZkGDCVKSdf8m76cnnalL-A</td>\n",
       "      <td>food</td>\n",
       "    </tr>\n",
       "    <tr>\n",
       "      <th>3</th>\n",
       "      <td></td>\n",
       "      <td>NcSlcDTEEeOaixotOPk-rA</td>\n",
       "      <td>bF8gv7k_rwZtiDLP2ZB04w</td>\n",
       "      <td>inside</td>\n",
       "    </tr>\n",
       "    <tr>\n",
       "      <th>4</th>\n",
       "      <td></td>\n",
       "      <td>5IiIo5UKEW0lWqZ6sWrY_A</td>\n",
       "      <td>50Anorn0DJXFhBr9a9_gHQ</td>\n",
       "      <td>inside</td>\n",
       "    </tr>\n",
       "  </tbody>\n",
       "</table>\n",
       "</div>"
      ],
      "text/plain": [
       "  caption                photo_id             business_id   label\n",
       "0          MllA1nNpcp1kDteVg6OGUw  rcaPajgKOJC2vo_l3xa42A  inside\n",
       "1          YjxBE88Bf6CmTEF2LP1UNA  Kn23LDd740SBVJ7mum0fwg  inside\n",
       "2          1f7izSjM0WjkDRIVbPy1yw  ZkGDCVKSdf8m76cnnalL-A    food\n",
       "3          NcSlcDTEEeOaixotOPk-rA  bF8gv7k_rwZtiDLP2ZB04w  inside\n",
       "4          5IiIo5UKEW0lWqZ6sWrY_A  50Anorn0DJXFhBr9a9_gHQ  inside"
      ]
     },
     "execution_count": 23,
     "metadata": {},
     "output_type": "execute_result"
    }
   ],
   "source": [
    "# Load yelp photo data\n",
    "photo_df = pd.read_json(os.path.join(yelp_dir, 'photo.json'), lines=True)\n",
    "photo_df.head()"
   ]
  },
  {
   "cell_type": "code",
   "execution_count": 24,
   "metadata": {},
   "outputs": [],
   "source": [
    "# filter data based on businesses id\n",
    "#photo_df  = photo_df[photo_df['business_id'].isin(business_df['business_id'])]"
   ]
  },
  {
   "cell_type": "code",
   "execution_count": 25,
   "metadata": {},
   "outputs": [
    {
     "data": {
      "text/html": [
       "<div>\n",
       "<style scoped>\n",
       "    .dataframe tbody tr th:only-of-type {\n",
       "        vertical-align: middle;\n",
       "    }\n",
       "\n",
       "    .dataframe tbody tr th {\n",
       "        vertical-align: top;\n",
       "    }\n",
       "\n",
       "    .dataframe thead th {\n",
       "        text-align: right;\n",
       "    }\n",
       "</style>\n",
       "<table border=\"1\" class=\"dataframe\">\n",
       "  <thead>\n",
       "    <tr style=\"text-align: right;\">\n",
       "      <th></th>\n",
       "      <th>caption</th>\n",
       "      <th>photo_id</th>\n",
       "      <th>business_id</th>\n",
       "      <th>label</th>\n",
       "    </tr>\n",
       "  </thead>\n",
       "  <tbody>\n",
       "    <tr>\n",
       "      <th>16</th>\n",
       "      <td>Outside</td>\n",
       "      <td>-bpyOFpGiJsOzh_y17cTMQ</td>\n",
       "      <td>-KIdCJnkt5N8rnnmWR5MQg</td>\n",
       "      <td>outside</td>\n",
       "    </tr>\n",
       "    <tr>\n",
       "      <th>18</th>\n",
       "      <td>\"last neighborhood bar in Vegas\"</td>\n",
       "      <td>YkW51dD0Hzw1572XLzrV5w</td>\n",
       "      <td>JIl4gbnh_cORSjSrZgOjAQ</td>\n",
       "      <td>outside</td>\n",
       "    </tr>\n",
       "    <tr>\n",
       "      <th>19</th>\n",
       "      <td>now this is a sandwich</td>\n",
       "      <td>fFf5HfvOZZBM_u-9fFSiHw</td>\n",
       "      <td>zU9w_xRlQSRIYXxGo-HSOA</td>\n",
       "      <td>food</td>\n",
       "    </tr>\n",
       "    <tr>\n",
       "      <th>20</th>\n",
       "      <td>Kai Restaurant</td>\n",
       "      <td>VTRKZpezwa25pyc8ePWLQQ</td>\n",
       "      <td>AkpuhGyLAxhD_sLMQv3kOg</td>\n",
       "      <td>inside</td>\n",
       "    </tr>\n",
       "    <tr>\n",
       "      <th>21</th>\n",
       "      <td>Resort lounge.</td>\n",
       "      <td>2fp5KiQd91qw351ea2V4Xw</td>\n",
       "      <td>AkpuhGyLAxhD_sLMQv3kOg</td>\n",
       "      <td>inside</td>\n",
       "    </tr>\n",
       "  </tbody>\n",
       "</table>\n",
       "</div>"
      ],
      "text/plain": [
       "                             caption                photo_id  \\\n",
       "16                           Outside  -bpyOFpGiJsOzh_y17cTMQ   \n",
       "18  \"last neighborhood bar in Vegas\"  YkW51dD0Hzw1572XLzrV5w   \n",
       "19            now this is a sandwich  fFf5HfvOZZBM_u-9fFSiHw   \n",
       "20                    Kai Restaurant  VTRKZpezwa25pyc8ePWLQQ   \n",
       "21                    Resort lounge.  2fp5KiQd91qw351ea2V4Xw   \n",
       "\n",
       "               business_id    label  \n",
       "16  -KIdCJnkt5N8rnnmWR5MQg  outside  \n",
       "18  JIl4gbnh_cORSjSrZgOjAQ  outside  \n",
       "19  zU9w_xRlQSRIYXxGo-HSOA     food  \n",
       "20  AkpuhGyLAxhD_sLMQv3kOg   inside  \n",
       "21  AkpuhGyLAxhD_sLMQv3kOg   inside  "
      ]
     },
     "execution_count": 25,
     "metadata": {},
     "output_type": "execute_result"
    }
   ],
   "source": [
    "# Select records that have a photo caption\n",
    "photo_df = photo_df.replace(r'^\\s*$', np.nan, regex=True)\n",
    "photo_df = photo_df.dropna(subset=['caption'])\n",
    "photo_df.head()"
   ]
  },
  {
   "cell_type": "code",
   "execution_count": 26,
   "metadata": {},
   "outputs": [
    {
     "data": {
      "text/html": [
       "<div>\n",
       "<style scoped>\n",
       "    .dataframe tbody tr th:only-of-type {\n",
       "        vertical-align: middle;\n",
       "    }\n",
       "\n",
       "    .dataframe tbody tr th {\n",
       "        vertical-align: top;\n",
       "    }\n",
       "\n",
       "    .dataframe thead th {\n",
       "        text-align: right;\n",
       "    }\n",
       "</style>\n",
       "<table border=\"1\" class=\"dataframe\">\n",
       "  <thead>\n",
       "    <tr style=\"text-align: right;\">\n",
       "      <th></th>\n",
       "      <th>caption</th>\n",
       "      <th>photo_id</th>\n",
       "      <th>business_id</th>\n",
       "      <th>label</th>\n",
       "      <th>name</th>\n",
       "      <th>address</th>\n",
       "      <th>city</th>\n",
       "      <th>state</th>\n",
       "      <th>postal_code</th>\n",
       "      <th>latitude</th>\n",
       "      <th>...</th>\n",
       "      <th>review_count</th>\n",
       "      <th>is_open</th>\n",
       "      <th>attributes</th>\n",
       "      <th>categories</th>\n",
       "      <th>hours</th>\n",
       "      <th>sushi</th>\n",
       "      <th>New_american</th>\n",
       "      <th>bars</th>\n",
       "      <th>coffee</th>\n",
       "      <th>yoga</th>\n",
       "    </tr>\n",
       "  </thead>\n",
       "  <tbody>\n",
       "    <tr>\n",
       "      <th>0</th>\n",
       "      <td>Outside</td>\n",
       "      <td>-bpyOFpGiJsOzh_y17cTMQ</td>\n",
       "      <td>-KIdCJnkt5N8rnnmWR5MQg</td>\n",
       "      <td>outside</td>\n",
       "      <td>Corleone's</td>\n",
       "      <td>1640 E Camelback Rd, Ste 140</td>\n",
       "      <td>Phoenix</td>\n",
       "      <td>AZ</td>\n",
       "      <td>85016</td>\n",
       "      <td>33.510153</td>\n",
       "      <td>...</td>\n",
       "      <td>233</td>\n",
       "      <td>1</td>\n",
       "      <td>{'RestaurantsTakeOut': 'True', 'RestaurantsAtt...</td>\n",
       "      <td>Cheesesteaks, Restaurants, Chicken Wings, Pizza</td>\n",
       "      <td>{'Monday': '10:30-21:0', 'Tuesday': '10:30-21:...</td>\n",
       "      <td>0.0</td>\n",
       "      <td>0</td>\n",
       "      <td>0.0</td>\n",
       "      <td>0.0</td>\n",
       "      <td>0.0</td>\n",
       "    </tr>\n",
       "    <tr>\n",
       "      <th>1</th>\n",
       "      <td>Sweet pepper bar</td>\n",
       "      <td>k_xC_oh7EBcWjgIPQ9C16Q</td>\n",
       "      <td>-KIdCJnkt5N8rnnmWR5MQg</td>\n",
       "      <td>inside</td>\n",
       "      <td>Corleone's</td>\n",
       "      <td>1640 E Camelback Rd, Ste 140</td>\n",
       "      <td>Phoenix</td>\n",
       "      <td>AZ</td>\n",
       "      <td>85016</td>\n",
       "      <td>33.510153</td>\n",
       "      <td>...</td>\n",
       "      <td>233</td>\n",
       "      <td>1</td>\n",
       "      <td>{'RestaurantsTakeOut': 'True', 'RestaurantsAtt...</td>\n",
       "      <td>Cheesesteaks, Restaurants, Chicken Wings, Pizza</td>\n",
       "      <td>{'Monday': '10:30-21:0', 'Tuesday': '10:30-21:...</td>\n",
       "      <td>0.0</td>\n",
       "      <td>0</td>\n",
       "      <td>0.0</td>\n",
       "      <td>0.0</td>\n",
       "      <td>0.0</td>\n",
       "    </tr>\n",
       "    <tr>\n",
       "      <th>2</th>\n",
       "      <td>Inside</td>\n",
       "      <td>HfTMxGkgfrkQyGUT3IdAvA</td>\n",
       "      <td>-KIdCJnkt5N8rnnmWR5MQg</td>\n",
       "      <td>inside</td>\n",
       "      <td>Corleone's</td>\n",
       "      <td>1640 E Camelback Rd, Ste 140</td>\n",
       "      <td>Phoenix</td>\n",
       "      <td>AZ</td>\n",
       "      <td>85016</td>\n",
       "      <td>33.510153</td>\n",
       "      <td>...</td>\n",
       "      <td>233</td>\n",
       "      <td>1</td>\n",
       "      <td>{'RestaurantsTakeOut': 'True', 'RestaurantsAtt...</td>\n",
       "      <td>Cheesesteaks, Restaurants, Chicken Wings, Pizza</td>\n",
       "      <td>{'Monday': '10:30-21:0', 'Tuesday': '10:30-21:...</td>\n",
       "      <td>0.0</td>\n",
       "      <td>0</td>\n",
       "      <td>0.0</td>\n",
       "      <td>0.0</td>\n",
       "      <td>0.0</td>\n",
       "    </tr>\n",
       "    <tr>\n",
       "      <th>3</th>\n",
       "      <td>\"last neighborhood bar in Vegas\"</td>\n",
       "      <td>YkW51dD0Hzw1572XLzrV5w</td>\n",
       "      <td>JIl4gbnh_cORSjSrZgOjAQ</td>\n",
       "      <td>outside</td>\n",
       "      <td>Dino's Lounge</td>\n",
       "      <td>1516 Las Vegas Blvd S</td>\n",
       "      <td>Las Vegas</td>\n",
       "      <td>NV</td>\n",
       "      <td>89104</td>\n",
       "      <td>36.152505</td>\n",
       "      <td>...</td>\n",
       "      <td>229</td>\n",
       "      <td>1</td>\n",
       "      <td>{'BusinessAcceptsCreditCards': 'True', 'Restau...</td>\n",
       "      <td>Karaoke, Nightlife, Bars, Dive Bars</td>\n",
       "      <td>{'Monday': '0:0-0:0', 'Tuesday': '0:0-0:0', 'W...</td>\n",
       "      <td>0.0</td>\n",
       "      <td>0</td>\n",
       "      <td>0.0</td>\n",
       "      <td>0.0</td>\n",
       "      <td>0.0</td>\n",
       "    </tr>\n",
       "    <tr>\n",
       "      <th>4</th>\n",
       "      <td>Can't mess with us!</td>\n",
       "      <td>O8v5q7KeAh9IfAr7L3EOUw</td>\n",
       "      <td>JIl4gbnh_cORSjSrZgOjAQ</td>\n",
       "      <td>inside</td>\n",
       "      <td>Dino's Lounge</td>\n",
       "      <td>1516 Las Vegas Blvd S</td>\n",
       "      <td>Las Vegas</td>\n",
       "      <td>NV</td>\n",
       "      <td>89104</td>\n",
       "      <td>36.152505</td>\n",
       "      <td>...</td>\n",
       "      <td>229</td>\n",
       "      <td>1</td>\n",
       "      <td>{'BusinessAcceptsCreditCards': 'True', 'Restau...</td>\n",
       "      <td>Karaoke, Nightlife, Bars, Dive Bars</td>\n",
       "      <td>{'Monday': '0:0-0:0', 'Tuesday': '0:0-0:0', 'W...</td>\n",
       "      <td>0.0</td>\n",
       "      <td>0</td>\n",
       "      <td>0.0</td>\n",
       "      <td>0.0</td>\n",
       "      <td>0.0</td>\n",
       "    </tr>\n",
       "  </tbody>\n",
       "</table>\n",
       "<p>5 rows × 22 columns</p>\n",
       "</div>"
      ],
      "text/plain": [
       "                            caption                photo_id  \\\n",
       "0                           Outside  -bpyOFpGiJsOzh_y17cTMQ   \n",
       "1                  Sweet pepper bar  k_xC_oh7EBcWjgIPQ9C16Q   \n",
       "2                            Inside  HfTMxGkgfrkQyGUT3IdAvA   \n",
       "3  \"last neighborhood bar in Vegas\"  YkW51dD0Hzw1572XLzrV5w   \n",
       "4               Can't mess with us!  O8v5q7KeAh9IfAr7L3EOUw   \n",
       "\n",
       "              business_id    label           name  \\\n",
       "0  -KIdCJnkt5N8rnnmWR5MQg  outside     Corleone's   \n",
       "1  -KIdCJnkt5N8rnnmWR5MQg   inside     Corleone's   \n",
       "2  -KIdCJnkt5N8rnnmWR5MQg   inside     Corleone's   \n",
       "3  JIl4gbnh_cORSjSrZgOjAQ  outside  Dino's Lounge   \n",
       "4  JIl4gbnh_cORSjSrZgOjAQ   inside  Dino's Lounge   \n",
       "\n",
       "                        address       city state postal_code   latitude  ...  \\\n",
       "0  1640 E Camelback Rd, Ste 140    Phoenix    AZ       85016  33.510153  ...   \n",
       "1  1640 E Camelback Rd, Ste 140    Phoenix    AZ       85016  33.510153  ...   \n",
       "2  1640 E Camelback Rd, Ste 140    Phoenix    AZ       85016  33.510153  ...   \n",
       "3         1516 Las Vegas Blvd S  Las Vegas    NV       89104  36.152505  ...   \n",
       "4         1516 Las Vegas Blvd S  Las Vegas    NV       89104  36.152505  ...   \n",
       "\n",
       "   review_count  is_open                                         attributes  \\\n",
       "0           233        1  {'RestaurantsTakeOut': 'True', 'RestaurantsAtt...   \n",
       "1           233        1  {'RestaurantsTakeOut': 'True', 'RestaurantsAtt...   \n",
       "2           233        1  {'RestaurantsTakeOut': 'True', 'RestaurantsAtt...   \n",
       "3           229        1  {'BusinessAcceptsCreditCards': 'True', 'Restau...   \n",
       "4           229        1  {'BusinessAcceptsCreditCards': 'True', 'Restau...   \n",
       "\n",
       "                                        categories  \\\n",
       "0  Cheesesteaks, Restaurants, Chicken Wings, Pizza   \n",
       "1  Cheesesteaks, Restaurants, Chicken Wings, Pizza   \n",
       "2  Cheesesteaks, Restaurants, Chicken Wings, Pizza   \n",
       "3              Karaoke, Nightlife, Bars, Dive Bars   \n",
       "4              Karaoke, Nightlife, Bars, Dive Bars   \n",
       "\n",
       "                                               hours sushi New_american  bars  \\\n",
       "0  {'Monday': '10:30-21:0', 'Tuesday': '10:30-21:...   0.0            0   0.0   \n",
       "1  {'Monday': '10:30-21:0', 'Tuesday': '10:30-21:...   0.0            0   0.0   \n",
       "2  {'Monday': '10:30-21:0', 'Tuesday': '10:30-21:...   0.0            0   0.0   \n",
       "3  {'Monday': '0:0-0:0', 'Tuesday': '0:0-0:0', 'W...   0.0            0   0.0   \n",
       "4  {'Monday': '0:0-0:0', 'Tuesday': '0:0-0:0', 'W...   0.0            0   0.0   \n",
       "\n",
       "  coffee  yoga  \n",
       "0    0.0   0.0  \n",
       "1    0.0   0.0  \n",
       "2    0.0   0.0  \n",
       "3    0.0   0.0  \n",
       "4    0.0   0.0  \n",
       "\n",
       "[5 rows x 22 columns]"
      ]
     },
     "execution_count": 26,
     "metadata": {},
     "output_type": "execute_result"
    }
   ],
   "source": [
    "# join with bussiness df so you can group by zip code\n",
    "photo_df = photo_df.merge(business_df, how ='right', on = 'business_id')\n",
    "photo_df.head()"
   ]
  },
  {
   "cell_type": "code",
   "execution_count": 27,
   "metadata": {},
   "outputs": [
    {
     "data": {
      "text/plain": [
       "0.0"
      ]
     },
     "execution_count": 27,
     "metadata": {},
     "output_type": "execute_result"
    }
   ],
   "source": [
    "# Select records that have one of the key terms that indicate third wave\n",
    "photo_df['avocado'] = photo_df['caption'].str.contains(\n",
    "    'avocado toast|latte art|pour over|single origin|house made|chemex|V60|AeroPress|vac pot syphon', case=False, regex=True)\n",
    "photo_df['avocado'] = photo_df['avocado'].replace({False: 0, True: 1})\n",
    "avocado = photo_df.groupby('postal_code').sum().iloc[:, -1]\n",
    "avocado.loc['28210']"
   ]
  },
  {
   "cell_type": "code",
   "execution_count": 28,
   "metadata": {},
   "outputs": [
    {
     "name": "stdout",
     "output_type": "stream",
     "text": [
      "[0. 0. 0. ... 0. 0. 0.]\n"
     ]
    }
   ],
   "source": [
    "print(avocado.values)"
   ]
  },
  {
   "cell_type": "code",
   "execution_count": 29,
   "metadata": {},
   "outputs": [
    {
     "data": {
      "text/plain": [
       "13.0"
      ]
     },
     "execution_count": 29,
     "metadata": {},
     "output_type": "execute_result"
    }
   ],
   "source": [
    "avocado.max()"
   ]
  },
  {
   "cell_type": "markdown",
   "metadata": {},
   "source": [
    "### Bring variables together into one dataset"
   ]
  },
  {
   "cell_type": "code",
   "execution_count": 30,
   "metadata": {},
   "outputs": [
    {
     "data": {
      "text/html": [
       "<div>\n",
       "<style scoped>\n",
       "    .dataframe tbody tr th:only-of-type {\n",
       "        vertical-align: middle;\n",
       "    }\n",
       "\n",
       "    .dataframe tbody tr th {\n",
       "        vertical-align: top;\n",
       "    }\n",
       "\n",
       "    .dataframe thead th {\n",
       "        text-align: right;\n",
       "    }\n",
       "</style>\n",
       "<table border=\"1\" class=\"dataframe\">\n",
       "  <thead>\n",
       "    <tr style=\"text-align: right;\">\n",
       "      <th></th>\n",
       "      <th>reviews_per_business</th>\n",
       "      <th>avg_stars</th>\n",
       "      <th>categories</th>\n",
       "      <th>sushi</th>\n",
       "      <th>New_american</th>\n",
       "      <th>bars</th>\n",
       "      <th>coffee</th>\n",
       "      <th>yoga</th>\n",
       "      <th>avocado</th>\n",
       "    </tr>\n",
       "    <tr>\n",
       "      <th>postal_code</th>\n",
       "      <th></th>\n",
       "      <th></th>\n",
       "      <th></th>\n",
       "      <th></th>\n",
       "      <th></th>\n",
       "      <th></th>\n",
       "      <th></th>\n",
       "      <th></th>\n",
       "      <th></th>\n",
       "    </tr>\n",
       "  </thead>\n",
       "  <tbody>\n",
       "    <tr>\n",
       "      <th></th>\n",
       "      <td>9.100152</td>\n",
       "      <td>3.358877</td>\n",
       "      <td>512</td>\n",
       "      <td>0.0</td>\n",
       "      <td>0.0</td>\n",
       "      <td>4.0</td>\n",
       "      <td>34.0</td>\n",
       "      <td>39.0</td>\n",
       "      <td>0.0</td>\n",
       "    </tr>\n",
       "    <tr>\n",
       "      <th>02645</th>\n",
       "      <td>4.000000</td>\n",
       "      <td>5.000000</td>\n",
       "      <td>1</td>\n",
       "      <td>0.0</td>\n",
       "      <td>0.0</td>\n",
       "      <td>0.0</td>\n",
       "      <td>0.0</td>\n",
       "      <td>1.0</td>\n",
       "      <td>0.0</td>\n",
       "    </tr>\n",
       "    <tr>\n",
       "      <th>05440</th>\n",
       "      <td>4.000000</td>\n",
       "      <td>4.250000</td>\n",
       "      <td>2</td>\n",
       "      <td>0.0</td>\n",
       "      <td>0.0</td>\n",
       "      <td>0.0</td>\n",
       "      <td>0.0</td>\n",
       "      <td>0.0</td>\n",
       "      <td>0.0</td>\n",
       "    </tr>\n",
       "    <tr>\n",
       "      <th>06032</th>\n",
       "      <td>9.000000</td>\n",
       "      <td>4.000000</td>\n",
       "      <td>1</td>\n",
       "      <td>0.0</td>\n",
       "      <td>0.0</td>\n",
       "      <td>0.0</td>\n",
       "      <td>0.0</td>\n",
       "      <td>0.0</td>\n",
       "      <td>0.0</td>\n",
       "    </tr>\n",
       "    <tr>\n",
       "      <th>06280</th>\n",
       "      <td>3.000000</td>\n",
       "      <td>5.000000</td>\n",
       "      <td>1</td>\n",
       "      <td>0.0</td>\n",
       "      <td>0.0</td>\n",
       "      <td>0.0</td>\n",
       "      <td>0.0</td>\n",
       "      <td>0.0</td>\n",
       "      <td>0.0</td>\n",
       "    </tr>\n",
       "    <tr>\n",
       "      <th>...</th>\n",
       "      <td>...</td>\n",
       "      <td>...</td>\n",
       "      <td>...</td>\n",
       "      <td>...</td>\n",
       "      <td>...</td>\n",
       "      <td>...</td>\n",
       "      <td>...</td>\n",
       "      <td>...</td>\n",
       "      <td>...</td>\n",
       "    </tr>\n",
       "    <tr>\n",
       "      <th>V0J</th>\n",
       "      <td>10.000000</td>\n",
       "      <td>4.500000</td>\n",
       "      <td>1</td>\n",
       "      <td>0.0</td>\n",
       "      <td>0.0</td>\n",
       "      <td>0.0</td>\n",
       "      <td>0.0</td>\n",
       "      <td>0.0</td>\n",
       "      <td>0.0</td>\n",
       "    </tr>\n",
       "    <tr>\n",
       "      <th>V5H 1J9</th>\n",
       "      <td>373.000000</td>\n",
       "      <td>3.500000</td>\n",
       "      <td>1</td>\n",
       "      <td>0.0</td>\n",
       "      <td>0.0</td>\n",
       "      <td>1.0</td>\n",
       "      <td>0.0</td>\n",
       "      <td>0.0</td>\n",
       "      <td>0.0</td>\n",
       "    </tr>\n",
       "    <tr>\n",
       "      <th>W8M 3T5</th>\n",
       "      <td>20.000000</td>\n",
       "      <td>4.000000</td>\n",
       "      <td>1</td>\n",
       "      <td>0.0</td>\n",
       "      <td>0.0</td>\n",
       "      <td>0.0</td>\n",
       "      <td>1.0</td>\n",
       "      <td>0.0</td>\n",
       "      <td>0.0</td>\n",
       "    </tr>\n",
       "    <tr>\n",
       "      <th>m2k 0c5</th>\n",
       "      <td>3.000000</td>\n",
       "      <td>4.500000</td>\n",
       "      <td>1</td>\n",
       "      <td>0.0</td>\n",
       "      <td>0.0</td>\n",
       "      <td>0.0</td>\n",
       "      <td>0.0</td>\n",
       "      <td>1.0</td>\n",
       "      <td>0.0</td>\n",
       "    </tr>\n",
       "    <tr>\n",
       "      <th>t2g 3m5</th>\n",
       "      <td>3.000000</td>\n",
       "      <td>5.000000</td>\n",
       "      <td>1</td>\n",
       "      <td>0.0</td>\n",
       "      <td>0.0</td>\n",
       "      <td>0.0</td>\n",
       "      <td>0.0</td>\n",
       "      <td>1.0</td>\n",
       "      <td>0.0</td>\n",
       "    </tr>\n",
       "  </tbody>\n",
       "</table>\n",
       "<p>17541 rows × 9 columns</p>\n",
       "</div>"
      ],
      "text/plain": [
       "             reviews_per_business  avg_stars  categories  sushi  New_american  \\\n",
       "postal_code                                                                     \n",
       "                         9.100152   3.358877         512    0.0           0.0   \n",
       "02645                    4.000000   5.000000           1    0.0           0.0   \n",
       "05440                    4.000000   4.250000           2    0.0           0.0   \n",
       "06032                    9.000000   4.000000           1    0.0           0.0   \n",
       "06280                    3.000000   5.000000           1    0.0           0.0   \n",
       "...                           ...        ...         ...    ...           ...   \n",
       "V0J                     10.000000   4.500000           1    0.0           0.0   \n",
       "V5H 1J9                373.000000   3.500000           1    0.0           0.0   \n",
       "W8M 3T5                 20.000000   4.000000           1    0.0           0.0   \n",
       "m2k 0c5                  3.000000   4.500000           1    0.0           0.0   \n",
       "t2g 3m5                  3.000000   5.000000           1    0.0           0.0   \n",
       "\n",
       "             bars  coffee  yoga  avocado  \n",
       "postal_code                               \n",
       "              4.0    34.0  39.0      0.0  \n",
       "02645         0.0     0.0   1.0      0.0  \n",
       "05440         0.0     0.0   0.0      0.0  \n",
       "06032         0.0     0.0   0.0      0.0  \n",
       "06280         0.0     0.0   0.0      0.0  \n",
       "...           ...     ...   ...      ...  \n",
       "V0J           0.0     0.0   0.0      0.0  \n",
       "V5H 1J9       1.0     0.0   0.0      0.0  \n",
       "W8M 3T5       0.0     1.0   0.0      0.0  \n",
       "m2k 0c5       0.0     0.0   1.0      0.0  \n",
       "t2g 3m5       0.0     0.0   1.0      0.0  \n",
       "\n",
       "[17541 rows x 9 columns]"
      ]
     },
     "execution_count": 30,
     "metadata": {},
     "output_type": "execute_result"
    }
   ],
   "source": [
    "frame = {'reviews_per_business': reviews_per_business, 'avg_stars': avg_stars, 'categories': categories, 'sushi': sushi,\n",
    "         'New_american': New_american, 'bars': bars, 'coffee': coffee, 'yoga': yoga, 'avocado': avocado} \n",
    "\n",
    "final_df = pd.DataFrame(frame)\n",
    "final_df"
   ]
  },
  {
   "cell_type": "code",
   "execution_count": 32,
   "metadata": {},
   "outputs": [],
   "source": [
    "# get rid of first row summary\n",
    "final_df = final_df.iloc[1:]\n",
    "final_df.to_csv('yelp_predictors.csv')"
   ]
  },
  {
   "cell_type": "code",
   "execution_count": null,
   "metadata": {},
   "outputs": [],
   "source": []
  }
 ],
 "metadata": {
  "kernelspec": {
   "display_name": "Python [conda env:metis] *",
   "language": "python",
   "name": "conda-env-metis-py"
  },
  "language_info": {
   "codemirror_mode": {
    "name": "ipython",
    "version": 3
   },
   "file_extension": ".py",
   "mimetype": "text/x-python",
   "name": "python",
   "nbconvert_exporter": "python",
   "pygments_lexer": "ipython3",
   "version": "3.7.4"
  }
 },
 "nbformat": 4,
 "nbformat_minor": 2
}
