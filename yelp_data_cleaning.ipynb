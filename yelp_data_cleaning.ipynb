{
 "cells": [
  {
   "cell_type": "markdown",
   "metadata": {},
   "source": [
    "# Yelp Data Cleaning\n",
    "This script imports, cleans, and filters variables for input into a regression model to predict median home price for a neighborhood. \n",
    "data source: https://www.yelp.com/dataset/download"
   ]
  },
  {
   "cell_type": "code",
   "execution_count": 5,
   "metadata": {},
   "outputs": [],
   "source": [
    "import os\n",
    "import numpy as np\n",
    "import pandas as pd"
   ]
  },
  {
   "cell_type": "code",
   "execution_count": 6,
   "metadata": {},
   "outputs": [],
   "source": [
    "# Set working directory\n",
    "project_dir = os.getcwd()\n",
    "yelp_dir = os.path.join(project_dir, 'data', 'yelp_dataset')"
   ]
  },
  {
   "cell_type": "markdown",
   "metadata": {},
   "source": [
    "## Variables that use the business dataset"
   ]
  },
  {
   "cell_type": "code",
   "execution_count": 7,
   "metadata": {
    "scrolled": true
   },
   "outputs": [
    {
     "data": {
      "text/html": [
       "<div>\n",
       "<style scoped>\n",
       "    .dataframe tbody tr th:only-of-type {\n",
       "        vertical-align: middle;\n",
       "    }\n",
       "\n",
       "    .dataframe tbody tr th {\n",
       "        vertical-align: top;\n",
       "    }\n",
       "\n",
       "    .dataframe thead th {\n",
       "        text-align: right;\n",
       "    }\n",
       "</style>\n",
       "<table border=\"1\" class=\"dataframe\">\n",
       "  <thead>\n",
       "    <tr style=\"text-align: right;\">\n",
       "      <th></th>\n",
       "      <th>business_id</th>\n",
       "      <th>name</th>\n",
       "      <th>address</th>\n",
       "      <th>city</th>\n",
       "      <th>state</th>\n",
       "      <th>postal_code</th>\n",
       "      <th>latitude</th>\n",
       "      <th>longitude</th>\n",
       "      <th>stars</th>\n",
       "      <th>review_count</th>\n",
       "      <th>is_open</th>\n",
       "      <th>attributes</th>\n",
       "      <th>categories</th>\n",
       "      <th>hours</th>\n",
       "    </tr>\n",
       "  </thead>\n",
       "  <tbody>\n",
       "    <tr>\n",
       "      <th>0</th>\n",
       "      <td>1SWheh84yJXfytovILXOAQ</td>\n",
       "      <td>Arizona Biltmore Golf Club</td>\n",
       "      <td>2818 E Camino Acequia Drive</td>\n",
       "      <td>Phoenix</td>\n",
       "      <td>AZ</td>\n",
       "      <td>85016</td>\n",
       "      <td>33.522143</td>\n",
       "      <td>-112.018481</td>\n",
       "      <td>3.0</td>\n",
       "      <td>5</td>\n",
       "      <td>0</td>\n",
       "      <td>{'GoodForKids': 'False'}</td>\n",
       "      <td>Golf, Active Life</td>\n",
       "      <td>None</td>\n",
       "    </tr>\n",
       "    <tr>\n",
       "      <th>1</th>\n",
       "      <td>QXAEGFB4oINsVuTFxEYKFQ</td>\n",
       "      <td>Emerald Chinese Restaurant</td>\n",
       "      <td>30 Eglinton Avenue W</td>\n",
       "      <td>Mississauga</td>\n",
       "      <td>ON</td>\n",
       "      <td>L5R 3E7</td>\n",
       "      <td>43.605499</td>\n",
       "      <td>-79.652289</td>\n",
       "      <td>2.5</td>\n",
       "      <td>128</td>\n",
       "      <td>1</td>\n",
       "      <td>{'RestaurantsReservations': 'True', 'GoodForMe...</td>\n",
       "      <td>Specialty Food, Restaurants, Dim Sum, Imported...</td>\n",
       "      <td>{'Monday': '9:0-0:0', 'Tuesday': '9:0-0:0', 'W...</td>\n",
       "    </tr>\n",
       "    <tr>\n",
       "      <th>2</th>\n",
       "      <td>gnKjwL_1w79qoiV3IC_xQQ</td>\n",
       "      <td>Musashi Japanese Restaurant</td>\n",
       "      <td>10110 Johnston Rd, Ste 15</td>\n",
       "      <td>Charlotte</td>\n",
       "      <td>NC</td>\n",
       "      <td>28210</td>\n",
       "      <td>35.092564</td>\n",
       "      <td>-80.859132</td>\n",
       "      <td>4.0</td>\n",
       "      <td>170</td>\n",
       "      <td>1</td>\n",
       "      <td>{'GoodForKids': 'True', 'NoiseLevel': 'u'avera...</td>\n",
       "      <td>Sushi Bars, Restaurants, Japanese</td>\n",
       "      <td>{'Monday': '17:30-21:30', 'Wednesday': '17:30-...</td>\n",
       "    </tr>\n",
       "    <tr>\n",
       "      <th>3</th>\n",
       "      <td>xvX2CttrVhyG2z1dFg_0xw</td>\n",
       "      <td>Farmers Insurance - Paul Lorenz</td>\n",
       "      <td>15655 W Roosevelt St, Ste 237</td>\n",
       "      <td>Goodyear</td>\n",
       "      <td>AZ</td>\n",
       "      <td>85338</td>\n",
       "      <td>33.455613</td>\n",
       "      <td>-112.395596</td>\n",
       "      <td>5.0</td>\n",
       "      <td>3</td>\n",
       "      <td>1</td>\n",
       "      <td>None</td>\n",
       "      <td>Insurance, Financial Services</td>\n",
       "      <td>{'Monday': '8:0-17:0', 'Tuesday': '8:0-17:0', ...</td>\n",
       "    </tr>\n",
       "    <tr>\n",
       "      <th>4</th>\n",
       "      <td>HhyxOkGAM07SRYtlQ4wMFQ</td>\n",
       "      <td>Queen City Plumbing</td>\n",
       "      <td>4209 Stuart Andrew Blvd, Ste F</td>\n",
       "      <td>Charlotte</td>\n",
       "      <td>NC</td>\n",
       "      <td>28217</td>\n",
       "      <td>35.190012</td>\n",
       "      <td>-80.887223</td>\n",
       "      <td>4.0</td>\n",
       "      <td>4</td>\n",
       "      <td>1</td>\n",
       "      <td>{'BusinessAcceptsBitcoin': 'False', 'ByAppoint...</td>\n",
       "      <td>Plumbing, Shopping, Local Services, Home Servi...</td>\n",
       "      <td>{'Monday': '7:0-23:0', 'Tuesday': '7:0-23:0', ...</td>\n",
       "    </tr>\n",
       "  </tbody>\n",
       "</table>\n",
       "</div>"
      ],
      "text/plain": [
       "              business_id                             name  \\\n",
       "0  1SWheh84yJXfytovILXOAQ       Arizona Biltmore Golf Club   \n",
       "1  QXAEGFB4oINsVuTFxEYKFQ       Emerald Chinese Restaurant   \n",
       "2  gnKjwL_1w79qoiV3IC_xQQ      Musashi Japanese Restaurant   \n",
       "3  xvX2CttrVhyG2z1dFg_0xw  Farmers Insurance - Paul Lorenz   \n",
       "4  HhyxOkGAM07SRYtlQ4wMFQ              Queen City Plumbing   \n",
       "\n",
       "                          address         city state postal_code   latitude  \\\n",
       "0     2818 E Camino Acequia Drive      Phoenix    AZ       85016  33.522143   \n",
       "1            30 Eglinton Avenue W  Mississauga    ON     L5R 3E7  43.605499   \n",
       "2       10110 Johnston Rd, Ste 15    Charlotte    NC       28210  35.092564   \n",
       "3   15655 W Roosevelt St, Ste 237     Goodyear    AZ       85338  33.455613   \n",
       "4  4209 Stuart Andrew Blvd, Ste F    Charlotte    NC       28217  35.190012   \n",
       "\n",
       "    longitude  stars  review_count  is_open  \\\n",
       "0 -112.018481    3.0             5        0   \n",
       "1  -79.652289    2.5           128        1   \n",
       "2  -80.859132    4.0           170        1   \n",
       "3 -112.395596    5.0             3        1   \n",
       "4  -80.887223    4.0             4        1   \n",
       "\n",
       "                                          attributes  \\\n",
       "0                           {'GoodForKids': 'False'}   \n",
       "1  {'RestaurantsReservations': 'True', 'GoodForMe...   \n",
       "2  {'GoodForKids': 'True', 'NoiseLevel': 'u'avera...   \n",
       "3                                               None   \n",
       "4  {'BusinessAcceptsBitcoin': 'False', 'ByAppoint...   \n",
       "\n",
       "                                          categories  \\\n",
       "0                                  Golf, Active Life   \n",
       "1  Specialty Food, Restaurants, Dim Sum, Imported...   \n",
       "2                  Sushi Bars, Restaurants, Japanese   \n",
       "3                      Insurance, Financial Services   \n",
       "4  Plumbing, Shopping, Local Services, Home Servi...   \n",
       "\n",
       "                                               hours  \n",
       "0                                               None  \n",
       "1  {'Monday': '9:0-0:0', 'Tuesday': '9:0-0:0', 'W...  \n",
       "2  {'Monday': '17:30-21:30', 'Wednesday': '17:30-...  \n",
       "3  {'Monday': '8:0-17:0', 'Tuesday': '8:0-17:0', ...  \n",
       "4  {'Monday': '7:0-23:0', 'Tuesday': '7:0-23:0', ...  "
      ]
     },
     "execution_count": 7,
     "metadata": {},
     "output_type": "execute_result"
    }
   ],
   "source": [
    "# Load business dataset\n",
    "business_df = pd.read_json(os.path.join(yelp_dir, 'business.json'), lines=True)\n",
    "business_df.head()"
   ]
  },
  {
   "cell_type": "code",
   "execution_count": 8,
   "metadata": {},
   "outputs": [
    {
     "data": {
      "text/plain": [
       "array(['AZ', 'ON', 'NC', 'AB', 'NV', 'OH', 'PA', 'QC', 'WI', 'IL', 'NY',\n",
       "       'SC', 'TX', 'UT', 'NM', 'FL', 'CA', 'VA', 'BAS', 'NE', 'AK', 'XGM',\n",
       "       'WA', 'XWY', 'CON', 'BC', 'GA', 'VT', 'CT', 'AL', 'DUR', 'TN',\n",
       "       'NJ', 'AR', 'XGL', 'DOW'], dtype=object)"
      ]
     },
     "execution_count": 8,
     "metadata": {},
     "output_type": "execute_result"
    }
   ],
   "source": [
    "business_df.state.unique()"
   ]
  },
  {
   "cell_type": "code",
   "execution_count": 9,
   "metadata": {},
   "outputs": [],
   "source": [
    "# What are the most populated cities in these states"
   ]
  },
  {
   "cell_type": "code",
   "execution_count": 10,
   "metadata": {},
   "outputs": [
    {
     "data": {
      "text/plain": [
       "1204"
      ]
     },
     "execution_count": 10,
     "metadata": {},
     "output_type": "execute_result"
    }
   ],
   "source": [
    "len(business_df.city.unique())"
   ]
  },
  {
   "cell_type": "markdown",
   "metadata": {},
   "source": [
    "### Average number of yelp reviews per business"
   ]
  },
  {
   "cell_type": "markdown",
   "metadata": {},
   "source": [
    "### Number of unique catgories of business"
   ]
  },
  {
   "cell_type": "markdown",
   "metadata": {},
   "source": [
    "## Reviews dataset"
   ]
  },
  {
   "cell_type": "code",
   "execution_count": 15,
   "metadata": {},
   "outputs": [
    {
     "data": {
      "text/html": [
       "<div>\n",
       "<style scoped>\n",
       "    .dataframe tbody tr th:only-of-type {\n",
       "        vertical-align: middle;\n",
       "    }\n",
       "\n",
       "    .dataframe tbody tr th {\n",
       "        vertical-align: top;\n",
       "    }\n",
       "\n",
       "    .dataframe thead th {\n",
       "        text-align: right;\n",
       "    }\n",
       "</style>\n",
       "<table border=\"1\" class=\"dataframe\">\n",
       "  <thead>\n",
       "    <tr style=\"text-align: right;\">\n",
       "      <th></th>\n",
       "      <th>review_id</th>\n",
       "      <th>user_id</th>\n",
       "      <th>business_id</th>\n",
       "      <th>stars</th>\n",
       "      <th>useful</th>\n",
       "      <th>funny</th>\n",
       "      <th>cool</th>\n",
       "      <th>text</th>\n",
       "      <th>date</th>\n",
       "    </tr>\n",
       "  </thead>\n",
       "  <tbody>\n",
       "    <tr>\n",
       "      <th>167120</th>\n",
       "      <td>qLQXinoMTnM6l4DjDB-GiA</td>\n",
       "      <td>Yq1wJRZvKzTtJEDLGhvPKQ</td>\n",
       "      <td>aV4lmp3mQHhi6eykm2VOBg</td>\n",
       "      <td>5</td>\n",
       "      <td>0</td>\n",
       "      <td>0</td>\n",
       "      <td>0</td>\n",
       "      <td>My daughter has been going here for sometime n...</td>\n",
       "      <td>2016-10-30 00:12:05</td>\n",
       "    </tr>\n",
       "    <tr>\n",
       "      <th>167121</th>\n",
       "      <td>1OAEIaakVPtSFlYdEm3o0A</td>\n",
       "      <td>KRLO2RJaF0FGTohm92lk9g</td>\n",
       "      <td>SX7-vTahSnoVeJQ6N86PMw</td>\n",
       "      <td>3</td>\n",
       "      <td>0</td>\n",
       "      <td>0</td>\n",
       "      <td>0</td>\n",
       "      <td>If I was rating only on the quality of my spa ...</td>\n",
       "      <td>2018-05-21 22:00:19</td>\n",
       "    </tr>\n",
       "    <tr>\n",
       "      <th>167122</th>\n",
       "      <td>ConV_R3gUEcYZoOy1EW-Pg</td>\n",
       "      <td>_VP0TEuEWANvti52O7zB_g</td>\n",
       "      <td>0atzNJ2l4qHNnwLupGdq7w</td>\n",
       "      <td>5</td>\n",
       "      <td>1</td>\n",
       "      <td>0</td>\n",
       "      <td>2</td>\n",
       "      <td>Best Vet in Town! Dr Kanarish has been taking ...</td>\n",
       "      <td>2016-03-21 20:10:54</td>\n",
       "    </tr>\n",
       "    <tr>\n",
       "      <th>167123</th>\n",
       "      <td>4fm7pWt1DW15vEjaHv9wNA</td>\n",
       "      <td>UhnwlZARii0_thG8dckugg</td>\n",
       "      <td>yWwIUmeenyAO7nwc7U0U5A</td>\n",
       "      <td>4</td>\n",
       "      <td>3</td>\n",
       "      <td>0</td>\n",
       "      <td>1</td>\n",
       "      <td>I would come back here only for the rolls. It'...</td>\n",
       "      <td>2014-08-15 21:30:01</td>\n",
       "    </tr>\n",
       "    <tr>\n",
       "      <th>167124</th>\n",
       "      <td>Vl9rGJ5LIjhJ2ZF5A8q0Eg</td>\n",
       "      <td>825Ol4rTvAZnUyFMke37jA</td>\n",
       "      <td>O7UMzd3i-Zk8dMeyY9ZwoA</td>\n",
       "      <td>5</td>\n",
       "      <td>7</td>\n",
       "      <td>4</td>\n",
       "      <td>4</td>\n",
       "      <td>My girlfriends and I have been looking forward...</td>\n",
       "      <td>2014-06-15 20:33:59</td>\n",
       "    </tr>\n",
       "  </tbody>\n",
       "</table>\n",
       "</div>"
      ],
      "text/plain": [
       "                     review_id                 user_id  \\\n",
       "167120  qLQXinoMTnM6l4DjDB-GiA  Yq1wJRZvKzTtJEDLGhvPKQ   \n",
       "167121  1OAEIaakVPtSFlYdEm3o0A  KRLO2RJaF0FGTohm92lk9g   \n",
       "167122  ConV_R3gUEcYZoOy1EW-Pg  _VP0TEuEWANvti52O7zB_g   \n",
       "167123  4fm7pWt1DW15vEjaHv9wNA  UhnwlZARii0_thG8dckugg   \n",
       "167124  Vl9rGJ5LIjhJ2ZF5A8q0Eg  825Ol4rTvAZnUyFMke37jA   \n",
       "\n",
       "                   business_id  stars  useful  funny  cool  \\\n",
       "167120  aV4lmp3mQHhi6eykm2VOBg      5       0      0     0   \n",
       "167121  SX7-vTahSnoVeJQ6N86PMw      3       0      0     0   \n",
       "167122  0atzNJ2l4qHNnwLupGdq7w      5       1      0     2   \n",
       "167123  yWwIUmeenyAO7nwc7U0U5A      4       3      0     1   \n",
       "167124  O7UMzd3i-Zk8dMeyY9ZwoA      5       7      4     4   \n",
       "\n",
       "                                                     text                date  \n",
       "167120  My daughter has been going here for sometime n... 2016-10-30 00:12:05  \n",
       "167121  If I was rating only on the quality of my spa ... 2018-05-21 22:00:19  \n",
       "167122  Best Vet in Town! Dr Kanarish has been taking ... 2016-03-21 20:10:54  \n",
       "167123  I would come back here only for the rolls. It'... 2014-08-15 21:30:01  \n",
       "167124  My girlfriends and I have been looking forward... 2014-06-15 20:33:59  "
      ]
     },
     "execution_count": 15,
     "metadata": {},
     "output_type": "execute_result"
    }
   ],
   "source": [
    "# Load yelp reviews (5GB dataset)\n",
    "reader = pd.read_json(os.path.join(yelp_dir, 'review.json'), lines=True, chunksize=1)\n",
    "reviews = pd.DataFrame(chunk)\n",
    "reviews.head()"
   ]
  },
  {
   "cell_type": "code",
   "execution_count": null,
   "metadata": {},
   "outputs": [],
   "source": [
    "for i in chunks:\n",
    "    reader = pd.read_json(os.path.join(yelp_dir, 'review.json'), lines=True, chunksize=i)\n",
    "    # Filter the data in some way or run calculations on it\n",
    "#for chunk in reader:\n",
    "#    reviews.append(pd.DataFrame(chunk)) \n",
    "#    print(chunk)"
   ]
  },
  {
   "cell_type": "markdown",
   "metadata": {},
   "source": [
    "### Identify third wave coffee shops\n",
    "Third wave coffee shops are defined as having direct trade sourcing, innovative brewing methods, and a smooth type of foam that creates decorative patterns when poured (i.e. latte art). To identify third wave coffee shops I'm going to choose businesses that have photo captions with terms associated with these characteristics:\n",
    "* latte art\n",
    "* single origin\n",
    "* brewing methods: chemex, V60, AeroPress, vac pot syphon"
   ]
  },
  {
   "cell_type": "code",
   "execution_count": 6,
   "metadata": {},
   "outputs": [
    {
     "data": {
      "text/html": [
       "<div>\n",
       "<style scoped>\n",
       "    .dataframe tbody tr th:only-of-type {\n",
       "        vertical-align: middle;\n",
       "    }\n",
       "\n",
       "    .dataframe tbody tr th {\n",
       "        vertical-align: top;\n",
       "    }\n",
       "\n",
       "    .dataframe thead th {\n",
       "        text-align: right;\n",
       "    }\n",
       "</style>\n",
       "<table border=\"1\" class=\"dataframe\">\n",
       "  <thead>\n",
       "    <tr style=\"text-align: right;\">\n",
       "      <th></th>\n",
       "      <th>caption</th>\n",
       "      <th>photo_id</th>\n",
       "      <th>business_id</th>\n",
       "      <th>label</th>\n",
       "    </tr>\n",
       "  </thead>\n",
       "  <tbody>\n",
       "    <tr>\n",
       "      <th>0</th>\n",
       "      <td></td>\n",
       "      <td>MllA1nNpcp1kDteVg6OGUw</td>\n",
       "      <td>rcaPajgKOJC2vo_l3xa42A</td>\n",
       "      <td>inside</td>\n",
       "    </tr>\n",
       "    <tr>\n",
       "      <th>1</th>\n",
       "      <td></td>\n",
       "      <td>YjxBE88Bf6CmTEF2LP1UNA</td>\n",
       "      <td>Kn23LDd740SBVJ7mum0fwg</td>\n",
       "      <td>inside</td>\n",
       "    </tr>\n",
       "    <tr>\n",
       "      <th>2</th>\n",
       "      <td></td>\n",
       "      <td>1f7izSjM0WjkDRIVbPy1yw</td>\n",
       "      <td>ZkGDCVKSdf8m76cnnalL-A</td>\n",
       "      <td>food</td>\n",
       "    </tr>\n",
       "    <tr>\n",
       "      <th>3</th>\n",
       "      <td></td>\n",
       "      <td>NcSlcDTEEeOaixotOPk-rA</td>\n",
       "      <td>bF8gv7k_rwZtiDLP2ZB04w</td>\n",
       "      <td>inside</td>\n",
       "    </tr>\n",
       "    <tr>\n",
       "      <th>4</th>\n",
       "      <td></td>\n",
       "      <td>5IiIo5UKEW0lWqZ6sWrY_A</td>\n",
       "      <td>50Anorn0DJXFhBr9a9_gHQ</td>\n",
       "      <td>inside</td>\n",
       "    </tr>\n",
       "  </tbody>\n",
       "</table>\n",
       "</div>"
      ],
      "text/plain": [
       "  caption                photo_id             business_id   label\n",
       "0          MllA1nNpcp1kDteVg6OGUw  rcaPajgKOJC2vo_l3xa42A  inside\n",
       "1          YjxBE88Bf6CmTEF2LP1UNA  Kn23LDd740SBVJ7mum0fwg  inside\n",
       "2          1f7izSjM0WjkDRIVbPy1yw  ZkGDCVKSdf8m76cnnalL-A    food\n",
       "3          NcSlcDTEEeOaixotOPk-rA  bF8gv7k_rwZtiDLP2ZB04w  inside\n",
       "4          5IiIo5UKEW0lWqZ6sWrY_A  50Anorn0DJXFhBr9a9_gHQ  inside"
      ]
     },
     "execution_count": 6,
     "metadata": {},
     "output_type": "execute_result"
    }
   ],
   "source": [
    "# Load yelp photo data\n",
    "photo_df = pd.read_json(os.path.join(yelp_dir, 'photo.json'), lines=True)\n",
    "photo_df.head()"
   ]
  },
  {
   "cell_type": "code",
   "execution_count": 7,
   "metadata": {},
   "outputs": [
    {
     "data": {
      "text/html": [
       "<div>\n",
       "<style scoped>\n",
       "    .dataframe tbody tr th:only-of-type {\n",
       "        vertical-align: middle;\n",
       "    }\n",
       "\n",
       "    .dataframe tbody tr th {\n",
       "        vertical-align: top;\n",
       "    }\n",
       "\n",
       "    .dataframe thead th {\n",
       "        text-align: right;\n",
       "    }\n",
       "</style>\n",
       "<table border=\"1\" class=\"dataframe\">\n",
       "  <thead>\n",
       "    <tr style=\"text-align: right;\">\n",
       "      <th></th>\n",
       "      <th>caption</th>\n",
       "      <th>photo_id</th>\n",
       "      <th>business_id</th>\n",
       "      <th>label</th>\n",
       "    </tr>\n",
       "  </thead>\n",
       "  <tbody>\n",
       "    <tr>\n",
       "      <th>16</th>\n",
       "      <td>Outside</td>\n",
       "      <td>-bpyOFpGiJsOzh_y17cTMQ</td>\n",
       "      <td>-KIdCJnkt5N8rnnmWR5MQg</td>\n",
       "      <td>outside</td>\n",
       "    </tr>\n",
       "    <tr>\n",
       "      <th>18</th>\n",
       "      <td>\"last neighborhood bar in Vegas\"</td>\n",
       "      <td>YkW51dD0Hzw1572XLzrV5w</td>\n",
       "      <td>JIl4gbnh_cORSjSrZgOjAQ</td>\n",
       "      <td>outside</td>\n",
       "    </tr>\n",
       "    <tr>\n",
       "      <th>19</th>\n",
       "      <td>now this is a sandwich</td>\n",
       "      <td>fFf5HfvOZZBM_u-9fFSiHw</td>\n",
       "      <td>zU9w_xRlQSRIYXxGo-HSOA</td>\n",
       "      <td>food</td>\n",
       "    </tr>\n",
       "    <tr>\n",
       "      <th>20</th>\n",
       "      <td>Kai Restaurant</td>\n",
       "      <td>VTRKZpezwa25pyc8ePWLQQ</td>\n",
       "      <td>AkpuhGyLAxhD_sLMQv3kOg</td>\n",
       "      <td>inside</td>\n",
       "    </tr>\n",
       "    <tr>\n",
       "      <th>21</th>\n",
       "      <td>Resort lounge.</td>\n",
       "      <td>2fp5KiQd91qw351ea2V4Xw</td>\n",
       "      <td>AkpuhGyLAxhD_sLMQv3kOg</td>\n",
       "      <td>inside</td>\n",
       "    </tr>\n",
       "  </tbody>\n",
       "</table>\n",
       "</div>"
      ],
      "text/plain": [
       "                             caption                photo_id  \\\n",
       "16                           Outside  -bpyOFpGiJsOzh_y17cTMQ   \n",
       "18  \"last neighborhood bar in Vegas\"  YkW51dD0Hzw1572XLzrV5w   \n",
       "19            now this is a sandwich  fFf5HfvOZZBM_u-9fFSiHw   \n",
       "20                    Kai Restaurant  VTRKZpezwa25pyc8ePWLQQ   \n",
       "21                    Resort lounge.  2fp5KiQd91qw351ea2V4Xw   \n",
       "\n",
       "               business_id    label  \n",
       "16  -KIdCJnkt5N8rnnmWR5MQg  outside  \n",
       "18  JIl4gbnh_cORSjSrZgOjAQ  outside  \n",
       "19  zU9w_xRlQSRIYXxGo-HSOA     food  \n",
       "20  AkpuhGyLAxhD_sLMQv3kOg   inside  \n",
       "21  AkpuhGyLAxhD_sLMQv3kOg   inside  "
      ]
     },
     "execution_count": 7,
     "metadata": {},
     "output_type": "execute_result"
    }
   ],
   "source": [
    "# Select records that have a photo caption\n",
    "photo_df = photo_df.replace(r'^\\s*$', np.nan, regex=True)\n",
    "photo_df = photo_df.dropna(subset=['caption'])\n",
    "photo_df.head()"
   ]
  },
  {
   "cell_type": "code",
   "execution_count": null,
   "metadata": {},
   "outputs": [],
   "source": [
    "# Select records that have one of the key terms that indicate third wave\n",
    "third_wave_terms = ['latte art', 'single origin', 'house made',\n",
    "                    'chemex', 'Chemex', 'V60', 'AeroPress', 'vac pot syphon']"
   ]
  },
  {
   "cell_type": "markdown",
   "metadata": {},
   "source": [
    "### Avocado Toast"
   ]
  },
  {
   "cell_type": "markdown",
   "metadata": {},
   "source": [
    "### Business turnover"
   ]
  },
  {
   "cell_type": "code",
   "execution_count": null,
   "metadata": {},
   "outputs": [],
   "source": []
  }
 ],
 "metadata": {
  "kernelspec": {
   "display_name": "Python [conda env:metis] *",
   "language": "python",
   "name": "conda-env-metis-py"
  },
  "language_info": {
   "codemirror_mode": {
    "name": "ipython",
    "version": 3
   },
   "file_extension": ".py",
   "mimetype": "text/x-python",
   "name": "python",
   "nbconvert_exporter": "python",
   "pygments_lexer": "ipython3",
   "version": "3.7.4"
  }
 },
 "nbformat": 4,
 "nbformat_minor": 2
}
