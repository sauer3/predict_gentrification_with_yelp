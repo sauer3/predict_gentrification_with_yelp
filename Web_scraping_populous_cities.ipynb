{
 "cells": [
  {
   "cell_type": "code",
   "execution_count": 1,
   "metadata": {},
   "outputs": [],
   "source": [
    "import pandas as pd\n",
    "from bs4 import BeautifulSoup\n",
    "import requests"
   ]
  },
  {
   "cell_type": "markdown",
   "metadata": {},
   "source": [
    "### Scrape table of United States cities by population from wikipedia"
   ]
  },
  {
   "cell_type": "code",
   "execution_count": 2,
   "metadata": {},
   "outputs": [
    {
     "data": {
      "text/plain": [
       "200"
      ]
     },
     "execution_count": 2,
     "metadata": {},
     "output_type": "execute_result"
    }
   ],
   "source": [
    "# Set url and make sure we get a code of 200 which means success\n",
    "url = 'https://en.wikipedia.org/wiki/List_of_United_States_cities_by_population'\n",
    "response = requests.get(url)\n",
    "response.status_code"
   ]
  },
  {
   "cell_type": "code",
   "execution_count": 3,
   "metadata": {},
   "outputs": [],
   "source": [
    "# Get table from html page\n",
    "page = response.text\n",
    "soup = BeautifulSoup(page, \"lxml\")\n",
    "table = soup.find('table', class_='wikitable sortable')"
   ]
  },
  {
   "cell_type": "code",
   "execution_count": 4,
   "metadata": {},
   "outputs": [
    {
     "name": "stdout",
     "output_type": "stream",
     "text": [
      "['2018rank', 'City', 'State', '2018estimate', '2010Census', 'Change', '2016 land area', '2016 population density', 'Location']\n"
     ]
    }
   ],
   "source": [
    "# Get column names of table to see what data you want to grab\n",
    "column_names = []\n",
    "for row in table.findAll(\"th\"):\n",
    "    column_names.append(row.text.split('\\n')[0])\n",
    "\n",
    "# Clean names\n",
    "column_names = [x.replace('[c]', '') for x in column_names]\n",
    "print(column_names)"
   ]
  },
  {
   "cell_type": "code",
   "execution_count": 5,
   "metadata": {},
   "outputs": [
    {
     "data": {
      "text/html": [
       "<div>\n",
       "<style scoped>\n",
       "    .dataframe tbody tr th:only-of-type {\n",
       "        vertical-align: middle;\n",
       "    }\n",
       "\n",
       "    .dataframe tbody tr th {\n",
       "        vertical-align: top;\n",
       "    }\n",
       "\n",
       "    .dataframe thead th {\n",
       "        text-align: right;\n",
       "    }\n",
       "</style>\n",
       "<table border=\"1\" class=\"dataframe\">\n",
       "  <thead>\n",
       "    <tr style=\"text-align: right;\">\n",
       "      <th></th>\n",
       "      <th>rank</th>\n",
       "      <th>City</th>\n",
       "      <th>State</th>\n",
       "      <th>estimate2018</th>\n",
       "      <th>population_density_sqmi</th>\n",
       "    </tr>\n",
       "  </thead>\n",
       "  <tbody>\n",
       "    <tr>\n",
       "      <th>0</th>\n",
       "      <td>1</td>\n",
       "      <td>New York</td>\n",
       "      <td>New York</td>\n",
       "      <td>8,398,748</td>\n",
       "      <td>28,317</td>\n",
       "    </tr>\n",
       "    <tr>\n",
       "      <th>1</th>\n",
       "      <td>2</td>\n",
       "      <td>Los Angeles</td>\n",
       "      <td>California</td>\n",
       "      <td>3,990,456</td>\n",
       "      <td>8,484</td>\n",
       "    </tr>\n",
       "    <tr>\n",
       "      <th>2</th>\n",
       "      <td>3</td>\n",
       "      <td>Chicago</td>\n",
       "      <td>Illinois</td>\n",
       "      <td>2,705,994</td>\n",
       "      <td>11,900</td>\n",
       "    </tr>\n",
       "    <tr>\n",
       "      <th>3</th>\n",
       "      <td>4</td>\n",
       "      <td>Houston</td>\n",
       "      <td>Texas</td>\n",
       "      <td>2,325,502</td>\n",
       "      <td>3,613</td>\n",
       "    </tr>\n",
       "    <tr>\n",
       "      <th>4</th>\n",
       "      <td>5</td>\n",
       "      <td>Phoenix</td>\n",
       "      <td>Arizona</td>\n",
       "      <td>1,660,272</td>\n",
       "      <td>3,120</td>\n",
       "    </tr>\n",
       "  </tbody>\n",
       "</table>\n",
       "</div>"
      ],
      "text/plain": [
       "  rank         City       State estimate2018 population_density_sqmi\n",
       "0    1     New York    New York    8,398,748                  28,317\n",
       "1    2  Los Angeles  California    3,990,456                   8,484\n",
       "2    3      Chicago    Illinois    2,705,994                  11,900\n",
       "3    4      Houston       Texas    2,325,502                   3,613\n",
       "4    5      Phoenix     Arizona    1,660,272                   3,120"
      ]
     },
     "execution_count": 5,
     "metadata": {},
     "output_type": "execute_result"
    }
   ],
   "source": [
    "# write rows to a pandas dataframe\n",
    "rank = []\n",
    "City = []\n",
    "State = []\n",
    "estimate2018 = []\n",
    "population_density_sqmi = []\n",
    "\n",
    "for row in table.findAll('tr')[1:]:\n",
    "    cells = row.findAll('td')\n",
    "    # For each \"tr\", assign each \"td\" to a variable.\n",
    "    rank.append(row.find('td').text.split('\\n')[0])\n",
    "    City.append(cells[1].findAll(text=True)[0])\n",
    "    State.append(cells[2].findAll(text=True)[1])\n",
    "    estimate2018.append(cells[3].findAll(text=True)[0].split('\\n')[0])\n",
    "    population_density_sqmi.append(\n",
    "        cells[8].findAll(text=True)[0].split('/')[0])\n",
    "\n",
    "df = pd.DataFrame(list(zip(rank, City, State, estimate2018, population_density_sqmi)), \n",
    "                  columns=['rank', 'City', 'State', 'estimate2018', 'population_density_sqmi'])\n",
    "df.head()"
   ]
  },
  {
   "cell_type": "code",
   "execution_count": 6,
   "metadata": {},
   "outputs": [],
   "source": [
    "df.to_csv('data/most_populous_cities.csv')"
   ]
  }
 ],
 "metadata": {
  "kernelspec": {
   "display_name": "Python [conda env:metis] *",
   "language": "python",
   "name": "conda-env-metis-py"
  },
  "language_info": {
   "codemirror_mode": {
    "name": "ipython",
    "version": 3
   },
   "file_extension": ".py",
   "mimetype": "text/x-python",
   "name": "python",
   "nbconvert_exporter": "python",
   "pygments_lexer": "ipython3",
   "version": "3.7.4"
  }
 },
 "nbformat": 4,
 "nbformat_minor": 2
}
